{
 "cells": [
  {
   "cell_type": "markdown",
   "metadata": {},
   "source": [
    "# NumPy \n",
    "\n",
    "NumPy is the fundamental package for scientific computing with Python. It contains among other things:\n",
    "\n",
    "  - a powerful N-dimensional array object\n",
    "  - sophisticated (broadcasting) functions\n",
    "  - tools for integrating C/C++ and Fortran code\n",
    "  - useful linear algebra, Fourier transform, and random number capabilities\n",
    "\n",
    "Besides its obvious scientific uses, NumPy can also be used as an efficient multi-dimensional container of generic data. Arbitrary data-types can be defined. This allows NumPy to seamlessly and speedily integrate with a wide variety of databases.\n",
    "\n",
    "NumPy is licensed under the [BSD](http://www.numpy.org/license.html#license) license, enabling reuse with few restrictions."
   ]
  },
  {
   "cell_type": "markdown",
   "metadata": {},
   "source": [
    "## Installation Guide\n",
    "\n",
    "**It is strongly recommended that you install Python using the Anaconda distribution to make sure all underlying dependencies work with conda install. If you have already installed Anaconda, install NumPy by opening your terminal(for MAC Users) or ANACONDA Command Prompt(for Windows Users) and type the following command - **\n",
    "    \n",
    "    conda install numpy\n",
    "    \n",
    "**If you are unable to install ANACONDA due to restrictions, please refer to [Numpy's official documentation on installation steps.](http://docs.scipy.org/doc/numpy-1.10.1/user/install.html)**"
   ]
  },
  {
   "cell_type": "markdown",
   "metadata": {},
   "source": [
    "## Using NumPy Package\n",
    "\n",
    "Once NumPy Package is installed successfully, you can import it to the current Python session using the following code:"
   ]
  },
  {
   "cell_type": "code",
   "execution_count": 1,
   "metadata": {
    "collapsed": true
   },
   "outputs": [],
   "source": [
    "import numpy as np        # Call the NumPy package using np. notation after executing the same"
   ]
  },
  {
   "cell_type": "markdown",
   "metadata": {},
   "source": [
    "# PART 1 - Intro to Arrays in NumPy\n",
    "\n",
    "Numpy has a ton of built-in functions that are useful for Data Scientists & Python Programmers alike.\n",
    "\n",
    "We shall cover some of the most important topics in Numpy: \n",
    "\n",
    "  - Arrays ( using Vectors & Matrices ) \n",
    "  - Number Generation Concepts\n",
    "\n",
    "# Numpy Arrays\n",
    "\n",
    "NumPy arrays are the one of the most widely used data structuring techniques by Data Scientists. \n",
    "\n",
    "Numpy arrays are of two types: Vectors and Matrices. \n",
    "\n",
    "Vectors are 1-dimensional arrays and matrices are 2-dimensional arrays(A Matrix can still possess a single row or a column).\n",
    "\n",
    "We shall begin our learning with how to create NumPy Arrays.\n",
    "\n",
    "## Creating simple NumPy Array Structures\n",
    "\n",
    "We could create a simple Array by using a list of values or a list of \"List of values\"."
   ]
  },
  {
   "cell_type": "code",
   "execution_count": 2,
   "metadata": {},
   "outputs": [
    {
     "output_type": "execute_result",
     "data": {
      "text/plain": "[101, 102, 103, 104, 105, 106, 107, 108, 109, 110]"
     },
     "metadata": {},
     "execution_count": 2
    }
   ],
   "source": [
    "simple_list = [101,102,103,104,105,106,107,108,109,110]\n",
    "simple_list"
   ]
  },
  {
   "cell_type": "code",
   "execution_count": 3,
   "metadata": {},
   "outputs": [
    {
     "output_type": "execute_result",
     "data": {
      "text/plain": "array([101, 102, 103, 104, 105, 106, 107, 108, 109, 110])"
     },
     "metadata": {},
     "execution_count": 3
    }
   ],
   "source": [
    "np.array(simple_list)"
   ]
  },
  {
   "cell_type": "code",
   "execution_count": 4,
   "metadata": {},
   "outputs": [
    {
     "output_type": "execute_result",
     "data": {
      "text/plain": "[[10, 11, 12], [20, 21, 22], [30, 31, 32]]"
     },
     "metadata": {},
     "execution_count": 4
    }
   ],
   "source": [
    "simple_list_of_lists = [[10,11,12],[20,21,22],[30,31,32]]\n",
    "simple_list_of_lists"
   ]
  },
  {
   "cell_type": "code",
   "execution_count": 5,
   "metadata": {},
   "outputs": [
    {
     "output_type": "execute_result",
     "data": {
      "text/plain": "array([[10, 11, 12],\n       [20, 21, 22],\n       [30, 31, 32]])"
     },
     "metadata": {},
     "execution_count": 5
    }
   ],
   "source": [
    "np.array(simple_list_of_lists)"
   ]
  },
  {
   "cell_type": "markdown",
   "metadata": {},
   "source": [
    "**There are multiple built-in methods to generate Arrays**\n",
    "\n",
    "### arange\n",
    "\n",
    "Return evenly spaced values within a given interval as input."
   ]
  },
  {
   "cell_type": "code",
   "execution_count": 6,
   "metadata": {},
   "outputs": [
    {
     "output_type": "execute_result",
     "data": {
      "text/plain": "array([ 0,  1,  2,  3,  4,  5,  6,  7,  8,  9, 10, 11, 12, 13, 14, 15, 16,\n       17, 18, 19])"
     },
     "metadata": {},
     "execution_count": 6
    }
   ],
   "source": [
    "np.arange(0,20)         # Return values 0 to 19. Start value is 0 which is included, the stop value provided is 20 which is not included\n",
    "\n"
   ]
  },
  {
   "cell_type": "code",
   "execution_count": 7,
   "metadata": {},
   "outputs": [
    {
     "output_type": "execute_result",
     "data": {
      "text/plain": "array([ 0,  4,  8, 12, 16])"
     },
     "metadata": {},
     "execution_count": 7
    }
   ],
   "source": [
    "np.arange(0,20,4)       # Specify start, stop and step values as input"
   ]
  },
  {
   "cell_type": "markdown",
   "metadata": {},
   "source": [
    "### 0's and 1's\n",
    "\n",
    "Generate arrays of 0's or 1's"
   ]
  },
  {
   "cell_type": "code",
   "execution_count": 8,
   "metadata": {},
   "outputs": [
    {
     "output_type": "execute_result",
     "data": {
      "text/plain": "array([0., 0., 0., 0., 0., 0., 0., 0., 0., 0.])"
     },
     "metadata": {},
     "execution_count": 8
    }
   ],
   "source": [
    "np.zeros(10)            # Specify the count of 0's required in the array"
   ]
  },
  {
   "cell_type": "code",
   "execution_count": 9,
   "metadata": {},
   "outputs": [
    {
     "output_type": "execute_result",
     "data": {
      "text/plain": "array([[0., 0., 0.],\n       [0., 0., 0.],\n       [0., 0., 0.],\n       [0., 0., 0.]])"
     },
     "metadata": {},
     "execution_count": 9
    }
   ],
   "source": [
    "np.zeros((4,3))         # Specify the number of rows by columns - 4 rows and 3 cols in this example"
   ]
  },
  {
   "cell_type": "code",
   "execution_count": 10,
   "metadata": {},
   "outputs": [
    {
     "output_type": "execute_result",
     "data": {
      "text/plain": "array([1., 1., 1., 1., 1., 1., 1., 1., 1., 1.])"
     },
     "metadata": {},
     "execution_count": 10
    }
   ],
   "source": [
    "np.ones(10)            # Specify the count of 1's required in the array"
   ]
  },
  {
   "cell_type": "code",
   "execution_count": 11,
   "metadata": {},
   "outputs": [
    {
     "output_type": "execute_result",
     "data": {
      "text/plain": "array([[1., 1., 1., 1., 1.],\n       [1., 1., 1., 1., 1.],\n       [1., 1., 1., 1., 1.],\n       [1., 1., 1., 1., 1.]])"
     },
     "metadata": {},
     "execution_count": 11
    }
   ],
   "source": [
    "np.ones((4,5))         # Specify the number of rows by columns - 4 rows and 5 cols in this example"
   ]
  },
  {
   "cell_type": "markdown",
   "metadata": {},
   "source": [
    "### linspace\n",
    "Return evenly spaced numbers over a specified interval."
   ]
  },
  {
   "cell_type": "code",
   "execution_count": 12,
   "metadata": {},
   "outputs": [
    {
     "output_type": "execute_result",
     "data": {
      "text/plain": "array([ 0.,  5., 10., 15., 20.])"
     },
     "metadata": {},
     "execution_count": 12
    }
   ],
   "source": [
    "np.linspace(0,20,5)    # Specify the start, stop and number values needed between them. Please note the stop value is also considered in this case\n",
    "\n"
   ]
  },
  {
   "cell_type": "code",
   "execution_count": 13,
   "metadata": {},
   "outputs": [
    {
     "output_type": "execute_result",
     "data": {
      "text/plain": "array([ 0.        ,  0.2020202 ,  0.4040404 ,  0.60606061,  0.80808081,\n        1.01010101,  1.21212121,  1.41414141,  1.61616162,  1.81818182,\n        2.02020202,  2.22222222,  2.42424242,  2.62626263,  2.82828283,\n        3.03030303,  3.23232323,  3.43434343,  3.63636364,  3.83838384,\n        4.04040404,  4.24242424,  4.44444444,  4.64646465,  4.84848485,\n        5.05050505,  5.25252525,  5.45454545,  5.65656566,  5.85858586,\n        6.06060606,  6.26262626,  6.46464646,  6.66666667,  6.86868687,\n        7.07070707,  7.27272727,  7.47474747,  7.67676768,  7.87878788,\n        8.08080808,  8.28282828,  8.48484848,  8.68686869,  8.88888889,\n        9.09090909,  9.29292929,  9.49494949,  9.6969697 ,  9.8989899 ,\n       10.1010101 , 10.3030303 , 10.50505051, 10.70707071, 10.90909091,\n       11.11111111, 11.31313131, 11.51515152, 11.71717172, 11.91919192,\n       12.12121212, 12.32323232, 12.52525253, 12.72727273, 12.92929293,\n       13.13131313, 13.33333333, 13.53535354, 13.73737374, 13.93939394,\n       14.14141414, 14.34343434, 14.54545455, 14.74747475, 14.94949495,\n       15.15151515, 15.35353535, 15.55555556, 15.75757576, 15.95959596,\n       16.16161616, 16.36363636, 16.56565657, 16.76767677, 16.96969697,\n       17.17171717, 17.37373737, 17.57575758, 17.77777778, 17.97979798,\n       18.18181818, 18.38383838, 18.58585859, 18.78787879, 18.98989899,\n       19.19191919, 19.39393939, 19.5959596 , 19.7979798 , 20.        ])"
     },
     "metadata": {},
     "execution_count": 13
    }
   ],
   "source": [
    "np.linspace(0,20,100)"
   ]
  },
  {
   "cell_type": "markdown",
   "metadata": {},
   "source": [
    "## eye\n",
    "\n",
    "Return a 2-D array with ones on the diagonal and zeros elsewhere. Also called an identity matrix"
   ]
  },
  {
   "cell_type": "code",
   "execution_count": 14,
   "metadata": {},
   "outputs": [
    {
     "output_type": "execute_result",
     "data": {
      "text/plain": "array([[1., 0., 0., 0., 0., 0., 0., 0., 0., 0.],\n       [0., 1., 0., 0., 0., 0., 0., 0., 0., 0.],\n       [0., 0., 1., 0., 0., 0., 0., 0., 0., 0.],\n       [0., 0., 0., 1., 0., 0., 0., 0., 0., 0.],\n       [0., 0., 0., 0., 1., 0., 0., 0., 0., 0.],\n       [0., 0., 0., 0., 0., 1., 0., 0., 0., 0.],\n       [0., 0., 0., 0., 0., 0., 1., 0., 0., 0.],\n       [0., 0., 0., 0., 0., 0., 0., 1., 0., 0.],\n       [0., 0., 0., 0., 0., 0., 0., 0., 1., 0.],\n       [0., 0., 0., 0., 0., 0., 0., 0., 0., 1.]])"
     },
     "metadata": {},
     "execution_count": 14
    }
   ],
   "source": [
    "np.eye(10)"
   ]
  },
  {
   "cell_type": "markdown",
   "metadata": {},
   "source": [
    "## Random \n",
    "\n",
    "Numpy has lots of options to create random numbered arrays:\n",
    "\n",
    "### rand\n",
    "Create an array of the given shape and populate it with random variables derived from a uniform distribution between `[0, 1)`."
   ]
  },
  {
   "cell_type": "code",
   "execution_count": 15,
   "metadata": {},
   "outputs": [
    {
     "output_type": "execute_result",
     "data": {
      "text/plain": "array([0.08299432, 0.85637232, 0.30636743, 0.561744  , 0.34125509])"
     },
     "metadata": {},
     "execution_count": 15
    }
   ],
   "source": [
    "np.random.rand(5)"
   ]
  },
  {
   "cell_type": "code",
   "execution_count": 16,
   "metadata": {},
   "outputs": [
    {
     "output_type": "execute_result",
     "data": {
      "text/plain": "array([[0.35262559, 0.15987108],\n       [0.61127399, 0.09874373],\n       [0.56002234, 0.01916105]])"
     },
     "metadata": {},
     "execution_count": 16
    }
   ],
   "source": [
    "np.random.rand(3,2)"
   ]
  },
  {
   "cell_type": "markdown",
   "metadata": {},
   "source": [
    "### randn\n",
    "\n",
    "Return a variable (or a set of variables) from the \"Standard Normal\" distribution. Unlike rand which is from a uniform distribution: \n",
    "\n",
    "A standard Normal Distribution has mean 0 and SD of 1 as we know."
   ]
  },
  {
   "cell_type": "code",
   "execution_count": 17,
   "metadata": {},
   "outputs": [
    {
     "output_type": "execute_result",
     "data": {
      "text/plain": "array([ 1.02046915,  2.84230641, -0.13027656, -0.72640525, -0.14244716])"
     },
     "metadata": {},
     "execution_count": 17
    }
   ],
   "source": [
    "np.random.randn(5)"
   ]
  },
  {
   "cell_type": "code",
   "execution_count": 18,
   "metadata": {},
   "outputs": [
    {
     "output_type": "execute_result",
     "data": {
      "text/plain": "array([[-0.46552788, -1.45422382],\n       [-0.05891178,  1.29700045],\n       [ 0.03055257, -0.86804274]])"
     },
     "metadata": {},
     "execution_count": 18
    }
   ],
   "source": [
    "np.random.randn(3,2)"
   ]
  },
  {
   "cell_type": "markdown",
   "metadata": {},
   "source": [
    "### randint\n",
    "Return random integers from `low` (inclusive) to `high` (exclusive)."
   ]
  },
  {
   "cell_type": "code",
   "execution_count": 19,
   "metadata": {},
   "outputs": [
    {
     "output_type": "execute_result",
     "data": {
      "text/plain": "6"
     },
     "metadata": {},
     "execution_count": 19
    }
   ],
   "source": [
    "np.random.randint(5,20)       # Returns one rand integer between the values 5 & 19(20 is excluded)"
   ]
  },
  {
   "cell_type": "code",
   "execution_count": 20,
   "metadata": {},
   "outputs": [
    {
     "output_type": "execute_result",
     "data": {
      "text/plain": "array([37, 45, 38, 31, 41])"
     },
     "metadata": {},
     "execution_count": 20
    }
   ],
   "source": [
    "np.random.randint(20,50,5)  # Returns  5 rand integers between 20 & 49(50 is excluded)"
   ]
  },
  {
   "cell_type": "markdown",
   "metadata": {},
   "source": [
    "## Array Attributes and Methods for an array\n",
    "\n",
    "Let us look at some important attributes and methods for an array."
   ]
  },
  {
   "cell_type": "code",
   "execution_count": 21,
   "metadata": {
    "collapsed": true
   },
   "outputs": [],
   "source": [
    "sample_array = np.arange(30)\n",
    "rand_array = np.random.randint(0,100,20)"
   ]
  },
  {
   "cell_type": "code",
   "execution_count": 22,
   "metadata": {},
   "outputs": [
    {
     "output_type": "execute_result",
     "data": {
      "text/plain": "array([ 0,  1,  2,  3,  4,  5,  6,  7,  8,  9, 10, 11, 12, 13, 14, 15, 16,\n       17, 18, 19, 20, 21, 22, 23, 24, 25, 26, 27, 28, 29])"
     },
     "metadata": {},
     "execution_count": 22
    }
   ],
   "source": [
    "sample_array"
   ]
  },
  {
   "cell_type": "code",
   "execution_count": 23,
   "metadata": {},
   "outputs": [
    {
     "output_type": "execute_result",
     "data": {
      "text/plain": "array([ 9, 64, 16, 98, 76, 71, 24, 43,  7, 69, 82, 17, 18, 79, 93, 87, 10,\n       13, 70, 40])"
     },
     "metadata": {},
     "execution_count": 23
    }
   ],
   "source": [
    "rand_array"
   ]
  },
  {
   "cell_type": "markdown",
   "metadata": {},
   "source": [
    "## Reshape\n",
    "Returns an array containing the same data with a new shape."
   ]
  },
  {
   "cell_type": "code",
   "execution_count": 24,
   "metadata": {},
   "outputs": [
    {
     "output_type": "execute_result",
     "data": {
      "text/plain": "array([[ 0,  1,  2,  3,  4,  5],\n       [ 6,  7,  8,  9, 10, 11],\n       [12, 13, 14, 15, 16, 17],\n       [18, 19, 20, 21, 22, 23],\n       [24, 25, 26, 27, 28, 29]])"
     },
     "metadata": {},
     "execution_count": 24
    }
   ],
   "source": [
    "sample_array.reshape(5,6)"
   ]
  },
  {
   "cell_type": "markdown",
   "metadata": {},
   "source": [
    "### max,min,argmax,argmin\n",
    "\n",
    "These are useful methods for finding max or min values. Or to find their index locations using argmin or argmax"
   ]
  },
  {
   "cell_type": "code",
   "execution_count": 25,
   "metadata": {},
   "outputs": [
    {
     "output_type": "execute_result",
     "data": {
      "text/plain": "array([ 9, 64, 16, 98, 76, 71, 24, 43,  7, 69, 82, 17, 18, 79, 93, 87, 10,\n       13, 70, 40])"
     },
     "metadata": {},
     "execution_count": 25
    }
   ],
   "source": [
    "rand_array"
   ]
  },
  {
   "cell_type": "code",
   "execution_count": 26,
   "metadata": {},
   "outputs": [
    {
     "output_type": "execute_result",
     "data": {
      "text/plain": "98"
     },
     "metadata": {},
     "execution_count": 26
    }
   ],
   "source": [
    "rand_array.max()"
   ]
  },
  {
   "cell_type": "code",
   "execution_count": 27,
   "metadata": {},
   "outputs": [
    {
     "output_type": "execute_result",
     "data": {
      "text/plain": "3"
     },
     "metadata": {},
     "execution_count": 27
    }
   ],
   "source": [
    "rand_array.argmax()"
   ]
  },
  {
   "cell_type": "code",
   "execution_count": 28,
   "metadata": {},
   "outputs": [
    {
     "output_type": "execute_result",
     "data": {
      "text/plain": "7"
     },
     "metadata": {},
     "execution_count": 28
    }
   ],
   "source": [
    "rand_array.min()"
   ]
  },
  {
   "cell_type": "code",
   "execution_count": 29,
   "metadata": {},
   "outputs": [
    {
     "output_type": "execute_result",
     "data": {
      "text/plain": "8"
     },
     "metadata": {},
     "execution_count": 29
    }
   ],
   "source": [
    "rand_array.argmin()"
   ]
  },
  {
   "cell_type": "markdown",
   "metadata": {},
   "source": [
    "## Shape\n",
    "\n",
    "Shape is an attribute that arrays have. It is not a method."
   ]
  },
  {
   "cell_type": "code",
   "execution_count": 30,
   "metadata": {},
   "outputs": [
    {
     "output_type": "execute_result",
     "data": {
      "text/plain": "(30,)"
     },
     "metadata": {},
     "execution_count": 30
    }
   ],
   "source": [
    "# Vector\n",
    "sample_array.shape"
   ]
  },
  {
   "cell_type": "code",
   "execution_count": 31,
   "metadata": {},
   "outputs": [
    {
     "output_type": "execute_result",
     "data": {
      "text/plain": "array([[ 0,  1,  2,  3,  4,  5,  6,  7,  8,  9, 10, 11, 12, 13, 14, 15,\n        16, 17, 18, 19, 20, 21, 22, 23, 24, 25, 26, 27, 28, 29]])"
     },
     "metadata": {},
     "execution_count": 31
    }
   ],
   "source": [
    "# Output has two sets of brackets - which indicates a matrix and not a vector\n",
    "sample_array.reshape(1,30)"
   ]
  },
  {
   "cell_type": "code",
   "execution_count": 32,
   "metadata": {},
   "outputs": [
    {
     "output_type": "execute_result",
     "data": {
      "text/plain": "(1, 30)"
     },
     "metadata": {},
     "execution_count": 32
    }
   ],
   "source": [
    "sample_array.reshape(1,30).shape"
   ]
  },
  {
   "cell_type": "code",
   "execution_count": 33,
   "metadata": {},
   "outputs": [
    {
     "output_type": "execute_result",
     "data": {
      "text/plain": "array([[ 0],\n       [ 1],\n       [ 2],\n       [ 3],\n       [ 4],\n       [ 5],\n       [ 6],\n       [ 7],\n       [ 8],\n       [ 9],\n       [10],\n       [11],\n       [12],\n       [13],\n       [14],\n       [15],\n       [16],\n       [17],\n       [18],\n       [19],\n       [20],\n       [21],\n       [22],\n       [23],\n       [24],\n       [25],\n       [26],\n       [27],\n       [28],\n       [29]])"
     },
     "metadata": {},
     "execution_count": 33
    }
   ],
   "source": [
    "sample_array.reshape(30,1)"
   ]
  },
  {
   "cell_type": "code",
   "execution_count": 34,
   "metadata": {},
   "outputs": [
    {
     "output_type": "execute_result",
     "data": {
      "text/plain": "(30, 1)"
     },
     "metadata": {},
     "execution_count": 34
    }
   ],
   "source": [
    "sample_array.reshape(30,1).shape"
   ]
  },
  {
   "cell_type": "markdown",
   "metadata": {},
   "source": [
    "### dtype\n",
    "\n",
    "You could retrieve the data type of the object in an array using dtype."
   ]
  },
  {
   "cell_type": "code",
   "execution_count": 35,
   "metadata": {},
   "outputs": [
    {
     "output_type": "execute_result",
     "data": {
      "text/plain": "dtype('int32')"
     },
     "metadata": {},
     "execution_count": 35
    }
   ],
   "source": [
    "sample_array.dtype"
   ]
  },
  {
   "cell_type": "code",
   "execution_count": 36,
   "metadata": {},
   "outputs": [
    {
     "output_type": "execute_result",
     "data": {
      "text/plain": "array([[ 0.55513056, -2.6397247 , -0.67744752,  1.03115623],\n       [-0.52876158,  2.03355696,  0.5379479 ,  0.3165821 ],\n       [-0.47344207,  0.31098734,  0.02193972,  0.04779659],\n       [-1.1044735 , -2.38993526,  1.64122797, -0.69763759]])"
     },
     "metadata": {},
     "execution_count": 36
    }
   ],
   "source": [
    "sample_array2 = np.random.randn(4,4)\n",
    "\n",
    "sample_array2"
   ]
  },
  {
   "cell_type": "code",
   "execution_count": 37,
   "metadata": {},
   "outputs": [
    {
     "output_type": "execute_result",
     "data": {
      "text/plain": "array([[ 0.55513056, -0.52876158, -0.47344207, -1.1044735 ],\n       [-2.6397247 ,  2.03355696,  0.31098734, -2.38993526],\n       [-0.67744752,  0.5379479 ,  0.02193972,  1.64122797],\n       [ 1.03115623,  0.3165821 ,  0.04779659, -0.69763759]])"
     },
     "metadata": {},
     "execution_count": 37
    }
   ],
   "source": [
    "sample_array2.T          # Transpose a matrix"
   ]
  },
  {
   "cell_type": "markdown",
   "metadata": {},
   "source": [
    "# Part 2 - NumPy Indexing & Selection\n",
    "\n",
    "We will now learn how to select objects or groups of objects from an array"
   ]
  },
  {
   "cell_type": "code",
   "execution_count": 38,
   "metadata": {
    "collapsed": true
   },
   "outputs": [],
   "source": [
    "#Create a sample array with 11 values\n",
    "sample_array = np.arange(10,21)"
   ]
  },
  {
   "cell_type": "code",
   "execution_count": 39,
   "metadata": {},
   "outputs": [
    {
     "output_type": "execute_result",
     "data": {
      "text/plain": "array([10, 11, 12, 13, 14, 15, 16, 17, 18, 19, 20])"
     },
     "metadata": {},
     "execution_count": 39
    }
   ],
   "source": [
    "#Show\n",
    "sample_array"
   ]
  },
  {
   "cell_type": "markdown",
   "metadata": {},
   "source": [
    "## Using brackets for Indexing & Selection\n"
   ]
  },
  {
   "cell_type": "code",
   "execution_count": 40,
   "metadata": {},
   "outputs": [
    {
     "output_type": "execute_result",
     "data": {
      "text/plain": "18"
     },
     "metadata": {},
     "execution_count": 40
    }
   ],
   "source": [
    "#Get the value at index position 8 from above sample array - Indexing starts from 0 and not 1\n",
    "sample_array[8]"
   ]
  },
  {
   "cell_type": "code",
   "execution_count": 41,
   "metadata": {},
   "outputs": [
    {
     "output_type": "execute_result",
     "data": {
      "text/plain": "array([10, 11, 12])"
     },
     "metadata": {},
     "execution_count": 41
    }
   ],
   "source": [
    "#Get values from a range selection\n",
    "sample_array[0:3]"
   ]
  },
  {
   "cell_type": "code",
   "execution_count": 42,
   "metadata": {},
   "outputs": [
    {
     "output_type": "execute_result",
     "data": {
      "text/plain": "array([10, 14, 17])"
     },
     "metadata": {},
     "execution_count": 42
    }
   ],
   "source": [
    "#Get values from specific index positions\n",
    "sample_array[[0,4,7]]"
   ]
  },
  {
   "cell_type": "markdown",
   "metadata": {},
   "source": [
    "## Broadcasting\n",
    "\n",
    "NumPy arrays have the capability of Broadcasting values as seen below"
   ]
  },
  {
   "cell_type": "code",
   "execution_count": 43,
   "metadata": {},
   "outputs": [
    {
     "output_type": "execute_result",
     "data": {
      "text/plain": "array([ 10, 100,  12,  13,  14,  15,  16,  17,  18,  19,  20])"
     },
     "metadata": {},
     "execution_count": 43
    }
   ],
   "source": [
    "#Setting a fixed value 100 using index range (Broadcasting)\n",
    "sample_array[1:2]=100\n",
    "\n",
    "#Show\n",
    "sample_array"
   ]
  },
  {
   "cell_type": "code",
   "execution_count": 44,
   "metadata": {},
   "outputs": [
    {
     "output_type": "execute_result",
     "data": {
      "text/plain": "array([10, 11, 12, 13, 14, 15, 16, 17, 18, 19, 20])"
     },
     "metadata": {},
     "execution_count": 44
    }
   ],
   "source": [
    "# Reset array, we shall see the need for reset\n",
    "sample_array = np.arange(10,21)\n",
    "\n",
    "#Show\n",
    "sample_array"
   ]
  },
  {
   "cell_type": "code",
   "execution_count": 45,
   "metadata": {},
   "outputs": [
    {
     "output_type": "execute_result",
     "data": {
      "text/plain": "array([10, 11, 12, 13, 14, 15, 16])"
     },
     "metadata": {},
     "execution_count": 45
    }
   ],
   "source": [
    "#Subsetting an array\n",
    "subset_sample_array = sample_array[0:7]\n",
    "\n",
    "#Output of the subset\n",
    "subset_sample_array"
   ]
  },
  {
   "cell_type": "code",
   "execution_count": 46,
   "metadata": {},
   "outputs": [
    {
     "output_type": "execute_result",
     "data": {
      "text/plain": "array([1001, 1001, 1001, 1001, 1001, 1001, 1001])"
     },
     "metadata": {},
     "execution_count": 46
    }
   ],
   "source": [
    "#Change the values in the subset\n",
    "subset_sample_array[:]=1001\n",
    "\n",
    "#Show subset output again\n",
    "subset_sample_array"
   ]
  },
  {
   "cell_type": "markdown",
   "metadata": {},
   "source": [
    "# Please Note that the changes in the subset has affected the original sample_array as well"
   ]
  },
  {
   "cell_type": "code",
   "execution_count": 47,
   "metadata": {},
   "outputs": [
    {
     "output_type": "execute_result",
     "data": {
      "text/plain": "array([1001, 1001, 1001, 1001, 1001, 1001, 1001,   17,   18,   19,   20])"
     },
     "metadata": {},
     "execution_count": 47
    }
   ],
   "source": [
    "sample_array"
   ]
  },
  {
   "cell_type": "markdown",
   "metadata": {},
   "source": [
    "# Data is not copied when we subset, it is a sub-view of the original array \n",
    "# This is a feature by default in order to avoid memory problems"
   ]
  },
  {
   "cell_type": "code",
   "execution_count": 48,
   "metadata": {},
   "outputs": [
    {
     "output_type": "execute_result",
     "data": {
      "text/plain": "array([1001, 1001, 1001, 1001, 1001, 1001, 1001,   17,   18,   19,   20])"
     },
     "metadata": {},
     "execution_count": 48
    }
   ],
   "source": [
    "#To get a copy, we need to use the copy function\n",
    "copy_array = sample_array.copy()\n",
    "\n",
    "copy_array"
   ]
  },
  {
   "cell_type": "markdown",
   "metadata": {},
   "source": [
    "## Indexing a Matrix - 2 dimensional arrays\n",
    "\n",
    "The general formats used are \n",
    "\n",
    "**sample_matrix[row][col]** \n",
    "\n",
    "or\n",
    "\n",
    "**sample_matrix[row,col]**\n",
    "\n",
    "We will use the second option as standard."
   ]
  },
  {
   "cell_type": "code",
   "execution_count": 49,
   "metadata": {},
   "outputs": [
    {
     "output_type": "execute_result",
     "data": {
      "text/plain": "array([[ 50, 200,   5,  10],\n       [ 10,  35,  50,  15],\n       [ 25, 100, 145, 120],\n       [105,  25,  65,  80]])"
     },
     "metadata": {},
     "execution_count": 49
    }
   ],
   "source": [
    "sample_matrix = np.array(([50,200,5,10],[10,35,50,15],[25,100,145,120],[105,25,65,80]))\n",
    "\n",
    "#Show output\n",
    "sample_matrix"
   ]
  },
  {
   "cell_type": "code",
   "execution_count": 50,
   "metadata": {},
   "outputs": [
    {
     "output_type": "execute_result",
     "data": {
      "text/plain": "array([10, 35, 50, 15])"
     },
     "metadata": {},
     "execution_count": 50
    }
   ],
   "source": [
    "#Indexing rows\n",
    "sample_matrix[1]\n"
   ]
  },
  {
   "cell_type": "code",
   "execution_count": 51,
   "metadata": {},
   "outputs": [
    {
     "output_type": "execute_result",
     "data": {
      "text/plain": "50"
     },
     "metadata": {},
     "execution_count": 51
    }
   ],
   "source": [
    "# Getting an individual element value from the matrix - Method 1\n",
    "sample_matrix[1][2]"
   ]
  },
  {
   "cell_type": "code",
   "execution_count": 52,
   "metadata": {},
   "outputs": [
    {
     "output_type": "execute_result",
     "data": {
      "text/plain": "50"
     },
     "metadata": {},
     "execution_count": 52
    }
   ],
   "source": [
    "# Getting an individual element value from the matrix - Method 2\n",
    "sample_matrix[1,2]"
   ]
  },
  {
   "cell_type": "code",
   "execution_count": 53,
   "metadata": {},
   "outputs": [
    {
     "output_type": "execute_result",
     "data": {
      "text/plain": "array([[200,   5,  10],\n       [ 35,  50,  15],\n       [100, 145, 120]])"
     },
     "metadata": {},
     "execution_count": 53
    }
   ],
   "source": [
    "# Slicing matrix\n",
    "\n",
    "#Shape (3,3) from top right corner\n",
    "sample_matrix[:3,1:]"
   ]
  },
  {
   "cell_type": "code",
   "execution_count": 54,
   "metadata": {},
   "outputs": [
    {
     "output_type": "execute_result",
     "data": {
      "text/plain": "array([105,  25,  65,  80])"
     },
     "metadata": {},
     "execution_count": 54
    }
   ],
   "source": [
    "#Shape bottom row - Extract values from last row only\n",
    "sample_matrix[3]"
   ]
  },
  {
   "cell_type": "code",
   "execution_count": 55,
   "metadata": {},
   "outputs": [
    {
     "output_type": "execute_result",
     "data": {
      "text/plain": "array([105,  25,  65,  80])"
     },
     "metadata": {},
     "execution_count": 55
    }
   ],
   "source": [
    "#Shape bottom row - Including column selection (Alternate to above)\n",
    "sample_matrix[3,:]"
   ]
  },
  {
   "cell_type": "markdown",
   "metadata": {},
   "source": [
    "### Custom Indexing of Matrix\n",
    "\n",
    "Custom or Fancy indexing allows you to select entire rows or columns specifically in interest."
   ]
  },
  {
   "cell_type": "code",
   "execution_count": 56,
   "metadata": {},
   "outputs": [
    {
     "output_type": "execute_result",
     "data": {
      "text/plain": "array([[ 50, 200,   5,  10, 160],\n       [170,  10,  35,  50,  15],\n       [125,  25, 100, 145, 120],\n       [100, 105,  25,  65,  80],\n       [250,  15,  25,  30, 100]])"
     },
     "metadata": {},
     "execution_count": 56
    }
   ],
   "source": [
    "#Set up a sample matrix\n",
    "sample_matrix = np.array(([50,200,5,10,160],[170,10,35,50,15],[125,25,100,145,120],[100,105,25,65,80],[250,15,25,30,100]))\n",
    "\n",
    "sample_matrix"
   ]
  },
  {
   "cell_type": "code",
   "execution_count": 57,
   "metadata": {},
   "outputs": [
    {
     "output_type": "execute_result",
     "data": {
      "text/plain": "array([[200,  10],\n       [ 10,  50],\n       [ 25, 145],\n       [105,  65],\n       [ 15,  30]])"
     },
     "metadata": {},
     "execution_count": 57
    }
   ],
   "source": [
    "sample_matrix[:,(1,3)]"
   ]
  },
  {
   "cell_type": "code",
   "execution_count": 58,
   "metadata": {},
   "outputs": [
    {
     "output_type": "execute_result",
     "data": {
      "text/plain": "array([[ 10, 200],\n       [ 50,  10],\n       [145,  25],\n       [ 65, 105],\n       [ 30,  15]])"
     },
     "metadata": {},
     "execution_count": 58
    }
   ],
   "source": [
    "#Allows to retrieve in any order\n",
    "sample_matrix[:,(3,1)]"
   ]
  },
  {
   "cell_type": "markdown",
   "metadata": {},
   "source": [
    "## Selection\n",
    "\n",
    "Using brackets for selection based on operators for comparison"
   ]
  },
  {
   "cell_type": "code",
   "execution_count": 59,
   "metadata": {},
   "outputs": [
    {
     "output_type": "execute_result",
     "data": {
      "text/plain": "array([ 1,  2,  3,  4,  5,  6,  7,  8,  9, 10, 11, 12, 13, 14, 15, 16, 17,\n       18, 19, 20, 21, 22, 23, 24, 25, 26, 27, 28, 29, 30])"
     },
     "metadata": {},
     "execution_count": 59
    }
   ],
   "source": [
    "simple_array = np.arange(1,31)\n",
    "simple_array"
   ]
  },
  {
   "cell_type": "code",
   "execution_count": 60,
   "metadata": {},
   "outputs": [
    {
     "output_type": "execute_result",
     "data": {
      "text/plain": "array([ True,  True,  True,  True,  True,  True,  True,  True,  True,\n       False, False, False, False, False, False, False, False, False,\n       False, False, False, False, False, False, False, False, False,\n       False, False, False])"
     },
     "metadata": {},
     "execution_count": 60
    }
   ],
   "source": [
    "simple_array <10"
   ]
  },
  {
   "cell_type": "code",
   "execution_count": 61,
   "metadata": {
    "collapsed": true
   },
   "outputs": [],
   "source": [
    "boolean_array = simple_array<10"
   ]
  },
  {
   "cell_type": "code",
   "execution_count": 62,
   "metadata": {},
   "outputs": [
    {
     "output_type": "execute_result",
     "data": {
      "text/plain": "array([ True,  True,  True,  True,  True,  True,  True,  True,  True,\n       False, False, False, False, False, False, False, False, False,\n       False, False, False, False, False, False, False, False, False,\n       False, False, False])"
     },
     "metadata": {},
     "execution_count": 62
    }
   ],
   "source": [
    "boolean_array"
   ]
  },
  {
   "cell_type": "code",
   "execution_count": 63,
   "metadata": {},
   "outputs": [
    {
     "output_type": "execute_result",
     "data": {
      "text/plain": "array([1, 2, 3, 4, 5, 6, 7, 8, 9])"
     },
     "metadata": {},
     "execution_count": 63
    }
   ],
   "source": [
    "simple_array[boolean_array]"
   ]
  },
  {
   "cell_type": "code",
   "execution_count": 64,
   "metadata": {},
   "outputs": [
    {
     "output_type": "execute_result",
     "data": {
      "text/plain": "array([16, 17, 18, 19, 20, 21, 22, 23, 24, 25, 26, 27, 28, 29, 30])"
     },
     "metadata": {},
     "execution_count": 64
    }
   ],
   "source": [
    "simple_array[simple_array>15]"
   ]
  },
  {
   "cell_type": "code",
   "execution_count": 65,
   "metadata": {},
   "outputs": [
    {
     "output_type": "execute_result",
     "data": {
      "text/plain": "array([12, 13, 14, 15, 16, 17, 18, 19, 20, 21, 22, 23, 24, 25, 26, 27, 28,\n       29, 30])"
     },
     "metadata": {},
     "execution_count": 65
    }
   ],
   "source": [
    "a = 11\n",
    "simple_array[simple_array>a]"
   ]
  },
  {
   "cell_type": "markdown",
   "metadata": {},
   "source": [
    "# Part 3"
   ]
  },
  {
   "cell_type": "markdown",
   "metadata": {
    "collapsed": true
   },
   "source": [
    "# NumPy Operations"
   ]
  },
  {
   "cell_type": "markdown",
   "metadata": {},
   "source": [
    "## Arithmetic Operations"
   ]
  },
  {
   "cell_type": "code",
   "execution_count": 66,
   "metadata": {
    "collapsed": true
   },
   "outputs": [],
   "source": [
    "simple_array = np.arange(0,21)"
   ]
  },
  {
   "cell_type": "code",
   "execution_count": 67,
   "metadata": {},
   "outputs": [
    {
     "output_type": "execute_result",
     "data": {
      "text/plain": "array([ 0,  2,  4,  6,  8, 10, 12, 14, 16, 18, 20, 22, 24, 26, 28, 30, 32,\n       34, 36, 38, 40])"
     },
     "metadata": {},
     "execution_count": 67
    }
   ],
   "source": [
    "simple_array + simple_array"
   ]
  },
  {
   "cell_type": "code",
   "execution_count": 68,
   "metadata": {},
   "outputs": [
    {
     "output_type": "execute_result",
     "data": {
      "text/plain": "array([  0,   1,   4,   9,  16,  25,  36,  49,  64,  81, 100, 121, 144,\n       169, 196, 225, 256, 289, 324, 361, 400])"
     },
     "metadata": {},
     "execution_count": 68
    }
   ],
   "source": [
    "simple_array * simple_array"
   ]
  },
  {
   "cell_type": "code",
   "execution_count": 69,
   "metadata": {},
   "outputs": [
    {
     "output_type": "execute_result",
     "data": {
      "text/plain": "array([0, 0, 0, 0, 0, 0, 0, 0, 0, 0, 0, 0, 0, 0, 0, 0, 0, 0, 0, 0, 0])"
     },
     "metadata": {},
     "execution_count": 69
    }
   ],
   "source": [
    "simple_array - simple_array"
   ]
  },
  {
   "cell_type": "code",
   "execution_count": 70,
   "metadata": {},
   "outputs": [
    {
     "output_type": "stream",
     "name": "stderr",
     "text": "<ipython-input-70-0f95247f8eb3>:2: RuntimeWarning: invalid value encountered in true_divide\n  simple_array/simple_array\n"
    },
    {
     "output_type": "execute_result",
     "data": {
      "text/plain": "array([nan,  1.,  1.,  1.,  1.,  1.,  1.,  1.,  1.,  1.,  1.,  1.,  1.,\n        1.,  1.,  1.,  1.,  1.,  1.,  1.,  1.])"
     },
     "metadata": {},
     "execution_count": 70
    }
   ],
   "source": [
    "# You get a warning message when dividing 0 by 0, and the value is replaced with nan\n",
    "simple_array/simple_array"
   ]
  },
  {
   "cell_type": "code",
   "execution_count": 71,
   "metadata": {},
   "outputs": [
    {
     "output_type": "stream",
     "name": "stderr",
     "text": "<ipython-input-71-1300e7df84ef>:2: RuntimeWarning: divide by zero encountered in true_divide\n  10/simple_array\n"
    },
    {
     "output_type": "execute_result",
     "data": {
      "text/plain": "array([        inf, 10.        ,  5.        ,  3.33333333,  2.5       ,\n        2.        ,  1.66666667,  1.42857143,  1.25      ,  1.11111111,\n        1.        ,  0.90909091,  0.83333333,  0.76923077,  0.71428571,\n        0.66666667,  0.625     ,  0.58823529,  0.55555556,  0.52631579,\n        0.5       ])"
     },
     "metadata": {},
     "execution_count": 71
    }
   ],
   "source": [
    "# Here, 10/0 is infinity and not nan - You get a warning message along with it\n",
    "10/simple_array"
   ]
  },
  {
   "cell_type": "code",
   "execution_count": 72,
   "metadata": {},
   "outputs": [
    {
     "output_type": "execute_result",
     "data": {
      "text/plain": "array([  0,   1,   4,   9,  16,  25,  36,  49,  64,  81, 100, 121, 144,\n       169, 196, 225, 256, 289, 324, 361, 400], dtype=int32)"
     },
     "metadata": {},
     "execution_count": 72
    }
   ],
   "source": [
    "simple_array**2"
   ]
  },
  {
   "cell_type": "markdown",
   "metadata": {},
   "source": [
    "## Universal Array Functions\n",
    "\n",
    "Numpy has numerous [universal array functions](http://docs.scipy.org/doc/numpy/reference/ufuncs.html)\n",
    "\n",
    "They are mathematical operations that can be performed to the entire array"
   ]
  },
  {
   "cell_type": "code",
   "execution_count": 73,
   "metadata": {},
   "outputs": [
    {
     "output_type": "execute_result",
     "data": {
      "text/plain": "array([0.        , 1.        , 1.41421356, 1.73205081, 2.        ,\n       2.23606798, 2.44948974, 2.64575131, 2.82842712, 3.        ,\n       3.16227766, 3.31662479, 3.46410162, 3.60555128, 3.74165739,\n       3.87298335, 4.        , 4.12310563, 4.24264069, 4.35889894,\n       4.47213595])"
     },
     "metadata": {},
     "execution_count": 73
    }
   ],
   "source": [
    "#Calculating Square Root\n",
    "np.sqrt(simple_array)"
   ]
  },
  {
   "cell_type": "code",
   "execution_count": 74,
   "metadata": {},
   "outputs": [
    {
     "output_type": "execute_result",
     "data": {
      "text/plain": "array([1.00000000e+00, 2.71828183e+00, 7.38905610e+00, 2.00855369e+01,\n       5.45981500e+01, 1.48413159e+02, 4.03428793e+02, 1.09663316e+03,\n       2.98095799e+03, 8.10308393e+03, 2.20264658e+04, 5.98741417e+04,\n       1.62754791e+05, 4.42413392e+05, 1.20260428e+06, 3.26901737e+06,\n       8.88611052e+06, 2.41549528e+07, 6.56599691e+07, 1.78482301e+08,\n       4.85165195e+08])"
     },
     "metadata": {},
     "execution_count": 74
    }
   ],
   "source": [
    "#Calclating exponential values (e^)\n",
    "np.exp(simple_array)"
   ]
  },
  {
   "cell_type": "code",
   "execution_count": 75,
   "metadata": {},
   "outputs": [
    {
     "output_type": "execute_result",
     "data": {
      "text/plain": "20"
     },
     "metadata": {},
     "execution_count": 75
    }
   ],
   "source": [
    "np.max(simple_array) #Can be found out using simple_array.max() format as well"
   ]
  },
  {
   "cell_type": "code",
   "execution_count": 76,
   "metadata": {},
   "outputs": [
    {
     "output_type": "execute_result",
     "data": {
      "text/plain": "20"
     },
     "metadata": {},
     "execution_count": 76
    }
   ],
   "source": [
    "np.argmax(simple_array)  #Gives the index position of max value in the array"
   ]
  },
  {
   "cell_type": "code",
   "execution_count": 77,
   "metadata": {},
   "outputs": [
    {
     "output_type": "execute_result",
     "data": {
      "text/plain": "array([ 0.        ,  0.84147098,  0.90929743,  0.14112001, -0.7568025 ,\n       -0.95892427, -0.2794155 ,  0.6569866 ,  0.98935825,  0.41211849,\n       -0.54402111, -0.99999021, -0.53657292,  0.42016704,  0.99060736,\n        0.65028784, -0.28790332, -0.96139749, -0.75098725,  0.14987721,\n        0.91294525])"
     },
     "metadata": {},
     "execution_count": 77
    }
   ],
   "source": [
    "np.sin(simple_array)"
   ]
  },
  {
   "cell_type": "code",
   "execution_count": 78,
   "metadata": {},
   "outputs": [
    {
     "output_type": "stream",
     "name": "stderr",
     "text": "<ipython-input-78-99f05ef9d7e0>:1: RuntimeWarning: divide by zero encountered in log\n  np.log(simple_array)\n"
    },
    {
     "output_type": "execute_result",
     "data": {
      "text/plain": "array([      -inf, 0.        , 0.69314718, 1.09861229, 1.38629436,\n       1.60943791, 1.79175947, 1.94591015, 2.07944154, 2.19722458,\n       2.30258509, 2.39789527, 2.48490665, 2.56494936, 2.63905733,\n       2.7080502 , 2.77258872, 2.83321334, 2.89037176, 2.94443898,\n       2.99573227])"
     },
     "metadata": {},
     "execution_count": 78
    }
   ],
   "source": [
    "np.log(simple_array)"
   ]
  },
  {
   "cell_type": "code",
   "execution_count": 79,
   "metadata": {},
   "outputs": [
    {
     "output_type": "execute_result",
     "data": {
      "text/plain": "array([ 1.        ,  0.54030231, -0.41614684, -0.9899925 , -0.65364362,\n        0.28366219,  0.96017029,  0.75390225, -0.14550003, -0.91113026,\n       -0.83907153,  0.0044257 ,  0.84385396,  0.90744678,  0.13673722,\n       -0.75968791, -0.95765948, -0.27516334,  0.66031671,  0.98870462,\n        0.40808206])"
     },
     "metadata": {},
     "execution_count": 79
    }
   ],
   "source": [
    "np.cos(simple_array)"
   ]
  },
  {
   "cell_type": "code",
   "execution_count": 80,
   "metadata": {},
   "outputs": [
    {
     "output_type": "execute_result",
     "data": {
      "text/plain": "array([  0,   1,   4,   9,  16,  25,  36,  49,  64,  81, 100, 121, 144,\n       169, 196, 225, 256, 289, 324, 361, 400], dtype=int32)"
     },
     "metadata": {},
     "execution_count": 80
    }
   ],
   "source": [
    "np.square(simple_array)"
   ]
  },
  {
   "cell_type": "code",
   "execution_count": 81,
   "metadata": {
    "collapsed": true
   },
   "outputs": [],
   "source": [
    "array_2 = np.random.randn(5,5)    #Create a 5x5 matrix with decimal numbers"
   ]
  },
  {
   "cell_type": "code",
   "execution_count": 82,
   "metadata": {},
   "outputs": [
    {
     "output_type": "execute_result",
     "data": {
      "text/plain": "array([[-1.58580597,  1.27056837,  0.05385867, -0.52797881, -1.3184431 ],\n       [ 1.07135721, -2.00553385, -1.13005453, -0.72837838,  0.87021012],\n       [-0.53358059,  0.05930267, -0.94129739, -0.97860255, -0.48141623],\n       [-0.51031461, -0.3113105 , -1.36265756, -0.96549078,  0.63039201],\n       [ 1.71218934, -0.19824424, -0.6198877 , -0.81826749,  0.39551778]])"
     },
     "metadata": {},
     "execution_count": 82
    }
   ],
   "source": [
    "array_2"
   ]
  },
  {
   "cell_type": "code",
   "execution_count": 83,
   "metadata": {},
   "outputs": [
    {
     "output_type": "execute_result",
     "data": {
      "text/plain": "array([[-1.59,  1.27,  0.05, -0.53, -1.32],\n       [ 1.07, -2.01, -1.13, -0.73,  0.87],\n       [-0.53,  0.06, -0.94, -0.98, -0.48],\n       [-0.51, -0.31, -1.36, -0.97,  0.63],\n       [ 1.71, -0.2 , -0.62, -0.82,  0.4 ]])"
     },
     "metadata": {},
     "execution_count": 83
    }
   ],
   "source": [
    "np.round(array_2,decimals=2)     #Rounding off the values to 2 decimal places"
   ]
  },
  {
   "cell_type": "code",
   "execution_count": 84,
   "metadata": {},
   "outputs": [
    {
     "output_type": "execute_result",
     "data": {
      "text/plain": "array([[-2.,  1.,  0., -1., -1.],\n       [ 1., -2., -1., -1.,  1.],\n       [-1.,  0., -1., -1., -0.],\n       [-1., -0., -1., -1.,  1.],\n       [ 2., -0., -1., -1.,  0.]])"
     },
     "metadata": {},
     "execution_count": 84
    }
   ],
   "source": [
    "np.round(array_2)               #Rounding off values to zero decimal places"
   ]
  },
  {
   "cell_type": "code",
   "execution_count": 85,
   "metadata": {},
   "outputs": [
    {
     "output_type": "execute_result",
     "data": {
      "text/plain": "0.9113853818612282"
     },
     "metadata": {},
     "execution_count": 85
    }
   ],
   "source": [
    "np.std(array_2)                 # Calculate standard deviation"
   ]
  },
  {
   "cell_type": "code",
   "execution_count": 86,
   "metadata": {},
   "outputs": [
    {
     "output_type": "execute_result",
     "data": {
      "text/plain": "0.8306233142703366"
     },
     "metadata": {},
     "execution_count": 86
    }
   ],
   "source": [
    "np.var(array_2)                 # Calculate variance"
   ]
  },
  {
   "cell_type": "code",
   "execution_count": 87,
   "metadata": {},
   "outputs": [
    {
     "output_type": "execute_result",
     "data": {
      "text/plain": "-0.3581547240867863"
     },
     "metadata": {},
     "execution_count": 87
    }
   ],
   "source": [
    "np.mean(array_2)                # Calculate mean"
   ]
  },
  {
   "cell_type": "code",
   "execution_count": 88,
   "metadata": {},
   "outputs": [
    {
     "output_type": "execute_result",
     "data": {
      "text/plain": "array(['Baseball', 'Basketball', 'Cricket', 'Football', 'Golf', 'cricket'],\n      dtype='<U10')"
     },
     "metadata": {},
     "execution_count": 88
    }
   ],
   "source": [
    "#Using the unique function\n",
    "sports = np.array(['Golf', 'Cricket', 'Football', 'Football','Cricket','cricket','Basketball', 'Baseball'])\n",
    "\n",
    "np.unique(sports)"
   ]
  },
  {
   "cell_type": "markdown",
   "metadata": {},
   "source": [
    "### Why do we see cricket twice in above output??"
   ]
  },
  {
   "cell_type": "code",
   "execution_count": 89,
   "metadata": {},
   "outputs": [
    {
     "output_type": "execute_result",
     "data": {
      "text/plain": "array([False,  True,  True])"
     },
     "metadata": {},
     "execution_count": 89
    }
   ],
   "source": [
    "# in1d we can test values in one array - returns boolean output\n",
    "np.in1d(['Fooseball','Cricket','Baseball'],sports)"
   ]
  },
  {
   "cell_type": "markdown",
   "metadata": {},
   "source": [
    "# Part 4"
   ]
  },
  {
   "cell_type": "markdown",
   "metadata": {},
   "source": [
    "## NumPy - Array Input and Output"
   ]
  },
  {
   "cell_type": "code",
   "execution_count": 90,
   "metadata": {
    "collapsed": true
   },
   "outputs": [],
   "source": [
    "import numpy as np"
   ]
  },
  {
   "cell_type": "code",
   "execution_count": 91,
   "metadata": {},
   "outputs": [
    {
     "output_type": "execute_result",
     "data": {
      "text/plain": "array([ 0,  1,  2,  3,  4,  5,  6,  7,  8,  9, 10])"
     },
     "metadata": {},
     "execution_count": 91
    }
   ],
   "source": [
    "#Create a simple array\n",
    "simple_array = np.arange(11)\n",
    "\n",
    "simple_array"
   ]
  },
  {
   "cell_type": "code",
   "execution_count": 92,
   "metadata": {
    "collapsed": true
   },
   "outputs": [],
   "source": [
    "#Save array on hard disk in binary format (file extension is .npy)\n",
    "np.save('array1',simple_array)"
   ]
  },
  {
   "cell_type": "code",
   "execution_count": 93,
   "metadata": {},
   "outputs": [
    {
     "output_type": "execute_result",
     "data": {
      "text/plain": "array([ 0,  1,  2,  3,  4,  5,  6,  7,  8,  9, 10, 11, 12, 13, 14, 15, 16,\n       17, 18, 19, 20])"
     },
     "metadata": {},
     "execution_count": 93
    }
   ],
   "source": [
    "#Change arr\n",
    "simple_array = np.arange(21)\n",
    "#Show\n",
    "simple_array"
   ]
  },
  {
   "cell_type": "code",
   "execution_count": 94,
   "metadata": {},
   "outputs": [
    {
     "output_type": "execute_result",
     "data": {
      "text/plain": "array([ 0,  1,  2,  3,  4,  5,  6,  7,  8,  9, 10])"
     },
     "metadata": {},
     "execution_count": 94
    }
   ],
   "source": [
    "#Lets see the original saved copy - This does not get affected by the changes we have made to the simple_array\n",
    "np.load('array1.npy')"
   ]
  },
  {
   "cell_type": "code",
   "execution_count": 95,
   "metadata": {
    "collapsed": true
   },
   "outputs": [],
   "source": [
    "#Saving multiple arrays into a zip file using savez (file extension is .npz and not .npy)\n",
    "np.savez('2_arrays.npz',a=simple_array,b=simple_array)"
   ]
  },
  {
   "cell_type": "code",
   "execution_count": 96,
   "metadata": {},
   "outputs": [
    {
     "output_type": "execute_result",
     "data": {
      "text/plain": "array([ 0,  1,  2,  3,  4,  5,  6,  7,  8,  9, 10, 11, 12, 13, 14, 15, 16,\n       17, 18, 19, 20])"
     },
     "metadata": {},
     "execution_count": 96
    }
   ],
   "source": [
    "#Now loading multiple arrays using load\n",
    "archived_arrays = np.load('2_arrays.npz')\n",
    "\n",
    "#Show\n",
    "archived_arrays['a']"
   ]
  },
  {
   "cell_type": "code",
   "execution_count": 97,
   "metadata": {
    "collapsed": true
   },
   "outputs": [],
   "source": [
    "#Saving the arrays as text files\n",
    "\n",
    "simple_array2 = np.array([[1,2,3,4,5,6,7],[8,9,10,11,12,13,14]])\n",
    "np.savetxt('my_text.txt',simple_array2,delimiter=',')"
   ]
  },
  {
   "cell_type": "code",
   "execution_count": 98,
   "metadata": {},
   "outputs": [
    {
     "output_type": "execute_result",
     "data": {
      "text/plain": "array([[ 1.,  2.,  3.,  4.,  5.,  6.,  7.],\n       [ 8.,  9., 10., 11., 12., 13., 14.]])"
     },
     "metadata": {},
     "execution_count": 98
    }
   ],
   "source": [
    "simple_array2 = np.loadtxt('my_text.txt',delimiter = ',')\n",
    "\n",
    "simple_array2"
   ]
  },
  {
   "cell_type": "markdown",
   "metadata": {},
   "source": [
    "### End of NumPy Section"
   ]
  }
 ],
 "metadata": {
  "kernelspec": {
   "display_name": "Python 3",
   "language": "python",
   "name": "python3"
  },
  "language_info": {
   "codemirror_mode": {
    "name": "ipython",
    "version": 3
   },
   "file_extension": ".py",
   "mimetype": "text/x-python",
   "name": "python",
   "nbconvert_exporter": "python",
   "pygments_lexer": "ipython3",
   "version": "3.8.2-final"
  }
 },
 "nbformat": 4,
 "nbformat_minor": 1
}